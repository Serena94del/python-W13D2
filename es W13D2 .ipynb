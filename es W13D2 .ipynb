{
 "cells": [
  {
   "cell_type": "code",
   "execution_count": 7,
   "id": "6f2824bd-7dea-45db-8af6-9051e06698ba",
   "metadata": {
    "tags": []
   },
   "outputs": [
    {
     "name": "stdout",
     "output_type": "stream",
     "text": [
      "[0, 1, 2, 3, 4, 5]\n"
     ]
    }
   ],
   "source": [
    "mylist = [0,1,2,3,4,5]\n",
    "print (mylist)"
   ]
  },
  {
   "cell_type": "code",
   "execution_count": 19,
   "id": "3afe4fab-fb3b-4a71-9cee-c573347c6f16",
   "metadata": {
    "tags": []
   },
   "outputs": [],
   "source": [
    "listafilm = [\"La vita è bella\", \"Moulin Rouge\", \"Forrest Gump\"]"
   ]
  },
  {
   "cell_type": "code",
   "execution_count": 20,
   "id": "a5426e95-8824-4d45-9c35-0ebf5c5f903d",
   "metadata": {
    "tags": []
   },
   "outputs": [
    {
     "name": "stdout",
     "output_type": "stream",
     "text": [
      "['La vita è bella', 'Moulin Rouge', 'Forrest Gump']\n"
     ]
    }
   ],
   "source": [
    "print (listafilm)"
   ]
  },
  {
   "cell_type": "code",
   "execution_count": 21,
   "id": "cf457f91-968d-422d-bf9b-86372b8208cf",
   "metadata": {
    "tags": []
   },
   "outputs": [],
   "source": [
    "nome_scuola = 'Epicode'"
   ]
  },
  {
   "cell_type": "code",
   "execution_count": 24,
   "id": "f51b46aa-d7d9-4e37-81a3-4341085f9a4d",
   "metadata": {
    "tags": []
   },
   "outputs": [
    {
     "name": "stdout",
     "output_type": "stream",
     "text": [
      "E\n"
     ]
    }
   ],
   "source": [
    "print(nome_scuola[0])"
   ]
  },
  {
   "cell_type": "code",
   "execution_count": 26,
   "id": "3fecb42e-f583-4183-a1de-76a81ebbda19",
   "metadata": {
    "tags": []
   },
   "outputs": [
    {
     "name": "stdout",
     "output_type": "stream",
     "text": [
      "Epi\n"
     ]
    }
   ],
   "source": [
    "print(nome_scuola[0:3])"
   ]
  },
  {
   "cell_type": "code",
   "execution_count": 43,
   "id": "467e95c3-059d-486f-ba3e-3704a845a97d",
   "metadata": {
    "tags": []
   },
   "outputs": [],
   "source": [
    "x=10"
   ]
  },
  {
   "cell_type": "code",
   "execution_count": 39,
   "id": "fda93c9b-3a1c-4393-9f1a-7cdc300f514d",
   "metadata": {
    "tags": []
   },
   "outputs": [
    {
     "data": {
      "text/plain": [
       "12"
      ]
     },
     "execution_count": 39,
     "metadata": {},
     "output_type": "execute_result"
    }
   ],
   "source": [
    "x + 2"
   ]
  },
  {
   "cell_type": "code",
   "execution_count": 41,
   "id": "5b570eb1-1900-438f-9bad-ea614c8cfc25",
   "metadata": {
    "tags": []
   },
   "outputs": [],
   "source": [
    "xx=12"
   ]
  },
  {
   "cell_type": "code",
   "execution_count": 42,
   "id": "1f5cd456-cb71-4280-bf42-c653c258f648",
   "metadata": {
    "tags": []
   },
   "outputs": [
    {
     "data": {
      "text/plain": [
       "36"
      ]
     },
     "execution_count": 42,
     "metadata": {},
     "output_type": "execute_result"
    }
   ],
   "source": [
    "xx*3"
   ]
  },
  {
   "cell_type": "code",
   "execution_count": 44,
   "id": "5302b22e-4667-477e-98bf-1afa23b04fc2",
   "metadata": {
    "tags": []
   },
   "outputs": [
    {
     "data": {
      "text/plain": [
       "36"
      ]
     },
     "execution_count": 44,
     "metadata": {},
     "output_type": "execute_result"
    }
   ],
   "source": [
    "(x+2)*3"
   ]
  },
  {
   "cell_type": "code",
   "execution_count": 7,
   "id": "fb10f1d9-8aa8-4b49-8d3d-956889c22963",
   "metadata": {},
   "outputs": [
    {
     "name": "stdin",
     "output_type": "stream",
     "text": [
      "come stai? tutto bene\n"
     ]
    },
    {
     "name": "stdout",
     "output_type": "stream",
     "text": [
      "tut...ene\n"
     ]
    }
   ],
   "source": [
    "messaggio = input (\"come stai?\")\n",
    "risposta = messaggio [:3] + \"...\" + messaggio [-3:]\n",
    "print (risposta)"
   ]
  },
  {
   "cell_type": "code",
   "execution_count": 11,
   "id": "7ef93172-2712-4813-95a0-14e53377b377",
   "metadata": {
    "tags": []
   },
   "outputs": [
    {
     "name": "stdout",
     "output_type": "stream",
     "text": [
      "7\n",
      "5\n",
      "10\n",
      "4\n"
     ]
    }
   ],
   "source": [
    "lunghezza1= len ('windows')\n",
    "print (lunghezza1)\n",
    "lunghezza2 = len ('excel')\n",
    "print (lunghezza2)\n",
    "lunghezza3= len ('powerpoint')\n",
    "print (lunghezza3)\n",
    "lunghezza4= len ('word')\n",
    "print (lunghezza4)"
   ]
  },
  {
   "cell_type": "code",
   "execution_count": 12,
   "id": "c9c654a9-763a-4064-a8f9-ed4f52959671",
   "metadata": {
    "tags": []
   },
   "outputs": [],
   "source": [
    "win = 'windows'\n",
    "excel = 'excel'\n",
    "pp= 'powerpoint'\n",
    "word= 'word'"
   ]
  },
  {
   "cell_type": "code",
   "execution_count": 16,
   "id": "27df836c-078b-4a48-ae05-271cc3a326e3",
   "metadata": {
    "tags": []
   },
   "outputs": [
    {
     "name": "stdout",
     "output_type": "stream",
     "text": [
      "maggiore o uguale a 5\n"
     ]
    }
   ],
   "source": [
    "if (len(win)) >= 5:\n",
    "    print ('maggiore o uguale a 5')\n",
    "else: print ('minore di 5')"
   ]
  },
  {
   "cell_type": "code",
   "execution_count": 20,
   "id": "51634aaf-707e-49fb-9fa4-4011dcc1dc7b",
   "metadata": {
    "tags": []
   },
   "outputs": [
    {
     "name": "stdout",
     "output_type": "stream",
     "text": [
      "non è compreso tra 5 e 8\n"
     ]
    }
   ],
   "source": [
    "if 5<= len (pp) <=8:\n",
    "    print ('è commpreso tra 5 e 8')\n",
    "else: print ('non è compreso tra 5 e 8')    "
   ]
  },
  {
   "cell_type": "code",
   "execution_count": 27,
   "id": "2de15366-fabf-4dcf-b627-b60aa1c32d08",
   "metadata": {
    "tags": []
   },
   "outputs": [],
   "source": [
    "lista_parole= [win, excel, pp, word]"
   ]
  },
  {
   "cell_type": "code",
   "execution_count": 5,
   "id": "d03c95be-7dcf-4d57-b089-9c515a376872",
   "metadata": {
    "tags": []
   },
   "outputs": [],
   "source": [
    "codici = [\"knt-S1\", \"cba-G9\", \"qtr-Z8\"]"
   ]
  },
  {
   "cell_type": "code",
   "execution_count": 20,
   "id": "21a4dde6-81f3-42e3-880a-981dd3f84b21",
   "metadata": {
    "tags": []
   },
   "outputs": [
    {
     "name": "stdout",
     "output_type": "stream",
     "text": [
      "-S1\n",
      "-G9\n",
      "-Z8\n"
     ]
    }
   ],
   "source": [
    "for codice in codici:\n",
    "    print (codice[-3:])"
   ]
  },
  {
   "cell_type": "code",
   "execution_count": 23,
   "id": "361b1e23-8ba6-4dc1-9e30-c6fbd08ac07e",
   "metadata": {
    "tags": []
   },
   "outputs": [],
   "source": [
    "growth = {\"Tesla\", \"Shopify\", \"Block\", \"Etsy\", \"MercadoLibre\", \"Netflix\", \"Amazon\", \"Meta Platforms\", \"Salesforce\", \"Alphabet\"}"
   ]
  },
  {
   "cell_type": "code",
   "execution_count": 24,
   "id": "c79fe14a-2031-4321-99a9-fb7122772191",
   "metadata": {
    "tags": []
   },
   "outputs": [],
   "source": [
    "value = {\"Pfizer\", \"Johnson & Johnson\", \"JPMorgan Chase & Co.\", \"Wells Fargo & Co.\", \"Verizon Communications\", \"BP PLC\", \"LyondellBasell Industries\", \"MetLife\", \"Interactive Brokers Group\", \"Intel\"}"
   ]
  },
  {
   "cell_type": "code",
   "execution_count": 25,
   "id": "8e032720-0fd6-4fe4-8fde-ebe06284249e",
   "metadata": {
    "tags": []
   },
   "outputs": [],
   "source": [
    "tech = {\"Apple\", \"Microsoft\", \"Alphabet\", \"Amazon\", \"NVIDIA\", \"Meta Platforms\", \"Tesla\", \"Alibaba\", \"Salesforce\", \"Advanced Micro Devices\", \"Intel\", \"PayPal\", \"Activision Blizzard\", \"Electronic Arts\", \"The Trade Desk\", \"Zillow Group\", \"Match Group\", \"Yelp\"}"
   ]
  },
  {
   "cell_type": "code",
   "execution_count": 26,
   "id": "27e0175d-d366-47c6-984d-a89674b2736f",
   "metadata": {
    "tags": []
   },
   "outputs": [],
   "source": [
    "healthcare = {\"UnitedHealth Group\", \"Johnson & Johnson\", \"Eli Lilly & Co.\", \"Novo Nordisk\", \"Merck & Co.\", \"Roche Holding\", \"Pfizer\", \"Thermo Fisher Scientific\", \"Abbott Laboratories\"}"
   ]
  },
  {
   "cell_type": "code",
   "execution_count": 29,
   "id": "4cf51925-4fec-4410-9786-a69ab06dd08b",
   "metadata": {
    "tags": []
   },
   "outputs": [
    {
     "name": "stdout",
     "output_type": "stream",
     "text": [
      "{'MercadoLibre', 'MetLife', 'Salesforce', 'Intel', 'Pfizer', 'Verizon Communications', 'Wells Fargo & Co.', 'Tesla', 'BP PLC', 'Block', 'Interactive Brokers Group', 'Meta Platforms', 'Alphabet', 'JPMorgan Chase & Co.', 'Shopify', 'Netflix', 'LyondellBasell Industries', 'Amazon', 'Johnson & Johnson', 'Etsy'}\n"
     ]
    }
   ],
   "source": [
    "print (growth.union (value))"
   ]
  },
  {
   "cell_type": "code",
   "execution_count": 33,
   "id": "0a517219-9ee4-4816-95f3-d432306fd790",
   "metadata": {
    "tags": []
   },
   "outputs": [
    {
     "name": "stdout",
     "output_type": "stream",
     "text": [
      "{'Salesforce', 'Alphabet', 'Tesla', 'Meta Platforms', 'Amazon'}\n"
     ]
    }
   ],
   "source": [
    "print (growth.intersection(tech))"
   ]
  },
  {
   "cell_type": "code",
   "execution_count": 34,
   "id": "e245a461-08de-4f83-8454-ae619ed1c65d",
   "metadata": {
    "tags": []
   },
   "outputs": [
    {
     "name": "stdout",
     "output_type": "stream",
     "text": [
      "{'Intel'}\n"
     ]
    }
   ],
   "source": [
    "print (tech.intersection(value))"
   ]
  },
  {
   "cell_type": "code",
   "execution_count": 36,
   "id": "86e2008d-6a1c-4b17-8dc4-6a3ad3e01450",
   "metadata": {
    "tags": []
   },
   "outputs": [
    {
     "name": "stdout",
     "output_type": "stream",
     "text": [
      "{'Abbott Laboratories', 'Eli Lilly & Co.', 'Thermo Fisher Scientific', 'UnitedHealth Group', 'Roche Holding', 'Merck & Co.', 'Novo Nordisk'}\n"
     ]
    }
   ],
   "source": [
    "print (healthcare-(value))"
   ]
  },
  {
   "cell_type": "code",
   "execution_count": 39,
   "id": "2f930502-4cea-4b71-abd9-eea3f70d3d72",
   "metadata": {
    "tags": []
   },
   "outputs": [
    {
     "name": "stdout",
     "output_type": "stream",
     "text": [
      "set()\n"
     ]
    }
   ],
   "source": [
    "print (tech.intersection(healthcare))"
   ]
  },
  {
   "cell_type": "code",
   "execution_count": 40,
   "id": "bc98ff90-cd9e-4b0e-a34e-53c89479c4f1",
   "metadata": {
    "tags": []
   },
   "outputs": [
    {
     "name": "stdout",
     "output_type": "stream",
     "text": [
      "{'Salesforce', 'Alphabet', 'Tesla', 'Meta Platforms', 'Amazon'}\n"
     ]
    }
   ],
   "source": [
    "print (tech.intersection(growth or value))"
   ]
  },
  {
   "cell_type": "code",
   "execution_count": null,
   "id": "90b047f2-eaa7-4c63-acc1-f51ab3951dbc",
   "metadata": {},
   "outputs": [],
   "source": []
  }
 ],
 "metadata": {
  "kernelspec": {
   "display_name": "Python 3 (ipykernel)",
   "language": "python",
   "name": "python3"
  },
  "language_info": {
   "codemirror_mode": {
    "name": "ipython",
    "version": 3
   },
   "file_extension": ".py",
   "mimetype": "text/x-python",
   "name": "python",
   "nbconvert_exporter": "python",
   "pygments_lexer": "ipython3",
   "version": "3.11.5"
  }
 },
 "nbformat": 4,
 "nbformat_minor": 5
}
